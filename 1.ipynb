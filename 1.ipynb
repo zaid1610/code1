{
 "cells": [
  {
   "cell_type": "code",
   "execution_count": 1,
   "id": "49f87ddb",
   "metadata": {},
   "outputs": [
    {
     "name": "stdout",
     "output_type": "stream",
     "text": [
      "\n",
      "Produce department:\n",
      "Enter the demand for apples: 10\n",
      "Invalid demand for apples in Produce department.\n",
      "Enter the demand for bananas: 5\n",
      "Invalid demand for bananas in Produce department.\n",
      "Enter the demand for carrots: 3\n",
      "Order more carrots for Produce department.\n",
      "\n",
      "Dairy department:\n",
      "Enter the demand for milk: 7\n",
      "Invalid demand for milk in Dairy department.\n",
      "Enter the demand for cheese: 2\n",
      "Order more cheese for Dairy department.\n",
      "Enter the demand for yogurt: 4\n",
      "Invalid demand for yogurt in Dairy department.\n",
      "\n",
      "Meat department:\n",
      "Enter the demand for chicken: 8\n",
      "Invalid demand for chicken in Meat department.\n",
      "Enter the demand for beef: 6\n",
      "Invalid demand for beef in Meat department.\n",
      "Enter the demand for pork: 3\n",
      "Order more pork for Meat department.\n",
      "\n",
      "Bakery department:\n",
      "Enter the demand for bread: 4\n",
      "Invalid demand for bread in Bakery department.\n",
      "Enter the demand for cookies: 10\n",
      "Invalid demand for cookies in Bakery department.\n",
      "Enter the demand for cakes: 2\n",
      "Order more cakes for Bakery department.\n"
     ]
    }
   ],
   "source": [
    "stock = {\n",
    "    'Produce': ['apples', 'bananas', 'carrots'],\n",
    "    'Dairy': ['milk', 'cheese', 'yogurt'],\n",
    "    'Meat': ['chicken', 'beef', 'pork'],\n",
    "    'Bakery': ['bread', 'cookies', 'cakes']\n",
    "}\n",
    "\n",
    "def check_stock_demand():\n",
    "    for department, items in stock.items():\n",
    "        print(f\"\\n{department} department:\")\n",
    "        for item in items:\n",
    "            demand = int(input(f\"Enter the demand for {item}: \"))\n",
    "            if demand > 0 and demand <= len(items):\n",
    "                stock_level = items.count(item)\n",
    "                if demand > stock_level:\n",
    "                    print(f\"Order more {item} for {department} department.\")\n",
    "                else:\n",
    "                    print(f\"Stock level for {item} in {department} department is sufficient.\")\n",
    "            else:\n",
    "                print(f\"Invalid demand for {item} in {department} department.\")\n",
    "\n",
    "check_stock_demand()\n",
    "\n",
    "\n"
   ]
  },
  {
   "cell_type": "code",
   "execution_count": null,
   "id": "81939282",
   "metadata": {},
   "outputs": [],
   "source": []
  }
 ],
 "metadata": {
  "kernelspec": {
   "display_name": "Python 3 (ipykernel)",
   "language": "python",
   "name": "python3"
  },
  "language_info": {
   "codemirror_mode": {
    "name": "ipython",
    "version": 3
   },
   "file_extension": ".py",
   "mimetype": "text/x-python",
   "name": "python",
   "nbconvert_exporter": "python",
   "pygments_lexer": "ipython3",
   "version": "3.10.9"
  }
 },
 "nbformat": 4,
 "nbformat_minor": 5
}
